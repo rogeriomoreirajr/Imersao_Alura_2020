{
  "nbformat": 4,
  "nbformat_minor": 0,
  "metadata": {
    "colab": {
      "name": "Importando o Enem pro Colab.ipynb",
      "provenance": [],
      "toc_visible": true,
      "mount_file_id": "15H-hIZY6WEvytKYv9v-8O9RW_vxQvFHY",
      "authorship_tag": "ABX9TyMd6PW0bAGt4/z6LYPUw5C8",
      "include_colab_link": true
    },
    "kernelspec": {
      "name": "python3",
      "display_name": "Python 3"
    }
  },
  "cells": [
    {
      "cell_type": "markdown",
      "metadata": {
        "id": "view-in-github",
        "colab_type": "text"
      },
      "source": [
        "<a href=\"https://colab.research.google.com/github/rogeriomoreirajr/Imersao_Alura_2020/blob/main/Importando_o_Enem_pro_Colab.ipynb\" target=\"_parent\"><img src=\"https://colab.research.google.com/assets/colab-badge.svg\" alt=\"Open In Colab\"/></a>"
      ]
    },
    {
      "cell_type": "markdown",
      "metadata": {
        "id": "w5tYg1xQk4-4"
      },
      "source": [
        "# Importando o Enem pro Colab\n",
        "\n",
        "É claro que é divertido a gente trabalhar com a amostra que foi disponibilizada - mas ~ cientista de dados ~ que se preze não se contenta com poucos dados, principalmente quando quer checar se uma conclusão na amostra bate com o dataset completo.\n",
        "\n",
        "Acontece que, independente da sua velocidade de internet, o Inep tem um limite de banda para fazermos o download dos dados. Por outro lado, subir 3GB de dados pro colab não faz bem pra internet de ninguém - e nem pro espaço no Google Drive.\n",
        "\n",
        "Para resolver isso, encontrei um [texto no Medium](https://medium.com/analytics-vidhya/how-to-fetch-kaggle-datasets-into-google-colab-ea682569851a) que explica bem como fazer isso - e reproduzo aqui, no Colab, pra você só precisar copiar pro Drive e sair raspando os dados.\n",
        "\n",
        "## Conseguindo uma API no Kaggle\n",
        "\n",
        "Falei ali acima de que o servidor do Inep tem um limite para o tráfgeo. De onde podemos conseguir eles então? Do **[Kaggle](https://www.kaggle.com/)**, que é conhecido tanto pelos desafios que promove quanto pelos datasets que hospeda gentilmente.\n",
        "\n",
        "O primeiro passo então é se registrar lá (caso não tenha uma conta, é 0800), clicar no canto superior direito (na sua foto de perfil), e depois em `My Account`. Na tela que aparece, mais pra baixo, tem um botão `Create New API Token`. Você clica nele e o site baixa um arquivo, `kaggle.json`. Esse arquivo tem as suas credenciais no Kaggle. Crie uma pasta chamada `Kaggle` no Google Drive, e suba o json lá dentro.\n",
        "\n",
        "![](https://miro.medium.com/max/576/1*ck7tx-CiJ9kODRAKgXEOQQ.png)\n",
        "\n",
        "Agora, vamos ao código.\n",
        "\n",
        "## Colocando o Drive no Colab\n",
        "\n",
        "Você já fez a cópia desse arquivo no seu drive? Se sim, você já pode editar ele. Monte o Drive dentro do notebook (clicando no ícone de pasta ali do lado, e depois no botão \"montar Drive\").\n",
        "\n",
        "![](data:image/png;base64,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)\n",
        "\n",
        "Agora, o Colab consegue acessar o Google Drive como se fosse uma pasta, um diretório. Lembra o `kaggle.json` que você salvou? Agora vamos ter acesso a ele, e poder se comunicar com o dataset do ENEM.\n",
        "\n",
        "## Crianco o ambiente para o Kaggle\n",
        "\n",
        "Rode a célula abaixo para ativar suas credenciais no Colab"
      ]
    },
    {
      "cell_type": "code",
      "metadata": {
        "id": "gexcHTtbp13I"
      },
      "source": [
        "import os\n",
        "os.environ['KAGGLE_CONFIG_DIR'] = \"/content/drive/My Drive/Kaggle\"\n",
        "\n",
        "# /content/gdrive/My Drive/Kaggle é onde salvamos o kaggle.json"
      ],
      "execution_count": 3,
      "outputs": []
    },
    {
      "cell_type": "markdown",
      "metadata": {
        "id": "Iw-Td2coqdvG"
      },
      "source": [
        "Agora você pode mudar onde vai ser o seu diretório de trabalho. No artigo original o autor falava em mudar para dentro do Drive. \n",
        "- A **parte boa** é que o que você baixar do kaggle vai ficar salvo dentro do Drive, e *não ser deletado* depois de um tempo (que é o que acontece quando você sobe algo diretro pro Colab). \n",
        "- A **parte ruim** é que *fica salvo dentro do Drive*, três gigabytes de arquivo disputando o espaço com aqueles anexos grandes de dez anos atrás. E não é agora que você vai deletar esses e-mails, né.\n",
        "\n",
        "Como o tempo de download e unzip é rápido (você já vai ver), eu prefiro deixar o working directory pro `/contents/` mesmo. Mas fica a seu critério. Se quiser mudar, rode essa célula:"
      ]
    },
    {
      "cell_type": "code",
      "metadata": {
        "id": "F3E--OPmrLpN",
        "outputId": "c68168a1-5d75-4cf8-ac90-29df3c6d57f9",
        "colab": {
          "base_uri": "https://localhost:8080/",
          "height": 34
        }
      },
      "source": [
        "%cd /content/gdrive/My Drive/Kaggle\n",
        "\n",
        "!ls -d\n",
        "\n",
        "# Ou outra pasta que preferir"
      ],
      "execution_count": 5,
      "outputs": [
        {
          "output_type": "stream",
          "text": [
            "/content\n"
          ],
          "name": "stdout"
        }
      ]
    },
    {
      "cell_type": "markdown",
      "metadata": {
        "id": "W7sayCekrQPd"
      },
      "source": [
        "E, agora, a magia.\n",
        "\n",
        "## Baixando e descompactando o dataset do Enem 2009]\n",
        "\n",
        "O dataset que vamos usar foi colocado no kaggle pelo [Marciano Saraiva](https://www.kaggle.com/saraivaufc) (que acabei de conhecer e já respeito pacas), e está disponível [nesse link](www.kaggle.com/saraivaufc/enem-2019). Como você pode ver, ele subiu o zip do INEP inteiro, compactado em 600 mb. Sabe aquela mala voltando de viagem? Esse aqui tá mais apertado.\n",
        "\n",
        "Agora, para baixar e abrir os arquivos, bastam as duas linhas da célula abaixo:"
      ]
    },
    {
      "cell_type": "code",
      "metadata": {
        "id": "J6iWxpiNqci-",
        "outputId": "51857ae7-b9dc-45d4-d961-ab9cc5c6c28e",
        "colab": {
          "base_uri": "https://localhost:8080/",
          "height": 64
        }
      },
      "source": [
        "!kaggle datasets download -d saraivaufc/enem-2019\n",
        "# Usamos o magic `!kaggle` para acessar a API e baixar o dataset\n",
        "# Se ele não encontrar o kaggle.json, suba ali ali pelo menu da esquerda: \n",
        "# clique com o segundo botão na pasta `My Drive\\Kaggle` e depois em `Upload`\n",
        "\n",
        "!unzip \\*.zip  && rm *.zip\n",
        "# Usamos o magic `!unzip` para extrair os arquivos e deletar o zip depois"
      ],
      "execution_count": null,
      "outputs": [
        {
          "output_type": "stream",
          "text": [
            "Downloading enem-2019.zip to /content\n",
            " 62% 422M/679M [00:17<00:07, 38.4MB/s]"
          ],
          "name": "stdout"
        }
      ]
    },
    {
      "cell_type": "markdown",
      "metadata": {
        "id": "0ORCgw3vstU8"
      },
      "source": [
        "Se deu tudo certo, você vai ver essas pastas ali no menu da esquerda:\n",
        "\n",
        "![image.png](data:image/png;base64,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)\n",
        "\n",
        "O processo roda toda nas máquinas do Google, então não deve levar muito tempo (aqui foi em seis segundos).\n",
        "\n",
        "Temos todos os dados salvos aqui, no Colab. Agora, é só pedir pro Computador da Nasa que o Google tem para transformar o csv num DataFrame, né?\n",
        "\n",
        "Não, infelizmente, não.\n",
        "\n",
        "Tentei rodar algumas vezes o código aqui, depois de salvar os arquivos, mas o Colab sempre acabava _reiniciando_. De algum modo, foi demais para o Google (sim, provavelmente o YouTube caiu em algum lugar por causa disso. Perdão pelo vacilo).\n",
        "\n",
        "Mas isso não quer dizer que não dá pra usar o arquivo de 3GB - claro que não. A questão é que, ao invés de criar um único DataFrame Gigantesco, o que vamos fazer é filtrar o CSV para termos só os dados que queremos.\n",
        "\n",
        "Por exemplo: para descobrir de que estados são os candidatos com menos de 14 anos, faria algo assim:"
      ]
    },
    {
      "cell_type": "code",
      "metadata": {
        "id": "vHjpnLlngtcV",
        "outputId": "8e333a4b-a890-4923-fb1a-17517896bd33",
        "colab": {
          "base_uri": "https://localhost:8080/",
          "height": 197
        }
      },
      "source": [
        "import pandas as pd\n",
        "\n",
        "dados = []\n",
        "chunksize = 10**6\n",
        "# Chunksize é o tamanho de cada \"pedaço\" do arquivo que o pandas vai trabalar\n",
        "\n",
        "path = '/content/DADOS/MICRODADOS_ENEM_2019.csv'\n",
        "\n",
        "chunks = pd.read_csv(path, sep=';', encoding='latin1', chunksize = chunksize)\n",
        "# Estou criando um iterador, uma ~lista~ com vários pedaços do CSV de 3gb\n",
        "# Esse arquivo do INEP tem as particularidades: usa `;` como separados, \n",
        "# e tá codificado em `latin1`. É bem comum datasets do governo terem esse encoding\n",
        "\n",
        "for chunk in chunks:\n",
        "    # Para cada pedaço do arquivo\n",
        "    \n",
        "    dado = chunk.query('NU_IDADE < 15') \n",
        "    # Filtrando quem tem 14 anos ou menos dentro do chunk\n",
        "\n",
        "    colunas = ['SG_UF_NASCIMENTO', 'NU_IDADE'] \n",
        "    # Pode incluir outras colunas, não afeta muito a performance\n",
        "\n",
        "    dados.append(dado[colunas])\n",
        "    # vou colocal na lista `dados` o DataFrame filtrado\n",
        "    \n",
        "    print('.') \n",
        "    # Só para sabermos que algo está acontecendo\n",
        "\n",
        "df = pd.concat(dados)\n",
        "df.head()"
      ],
      "execution_count": null,
      "outputs": [
        {
          "output_type": "execute_result",
          "data": {
            "text/html": [
              "<div>\n",
              "<style scoped>\n",
              "    .dataframe tbody tr th:only-of-type {\n",
              "        vertical-align: middle;\n",
              "    }\n",
              "\n",
              "    .dataframe tbody tr th {\n",
              "        vertical-align: top;\n",
              "    }\n",
              "\n",
              "    .dataframe thead th {\n",
              "        text-align: right;\n",
              "    }\n",
              "</style>\n",
              "<table border=\"1\" class=\"dataframe\">\n",
              "  <thead>\n",
              "    <tr style=\"text-align: right;\">\n",
              "      <th></th>\n",
              "      <th>SG_UF_NASCIMENTO</th>\n",
              "      <th>NU_IDADE</th>\n",
              "    </tr>\n",
              "  </thead>\n",
              "  <tbody>\n",
              "    <tr>\n",
              "      <th>1608</th>\n",
              "      <td>PA</td>\n",
              "      <td>14</td>\n",
              "    </tr>\n",
              "    <tr>\n",
              "      <th>2272</th>\n",
              "      <td>PA</td>\n",
              "      <td>14</td>\n",
              "    </tr>\n",
              "    <tr>\n",
              "      <th>3310</th>\n",
              "      <td>PA</td>\n",
              "      <td>14</td>\n",
              "    </tr>\n",
              "    <tr>\n",
              "      <th>3998</th>\n",
              "      <td>PA</td>\n",
              "      <td>13</td>\n",
              "    </tr>\n",
              "    <tr>\n",
              "      <th>4179</th>\n",
              "      <td>PA</td>\n",
              "      <td>14</td>\n",
              "    </tr>\n",
              "  </tbody>\n",
              "</table>\n",
              "</div>"
            ],
            "text/plain": [
              "     SG_UF_NASCIMENTO  NU_IDADE\n",
              "1608               PA        14\n",
              "2272               PA        14\n",
              "3310               PA        14\n",
              "3998               PA        13\n",
              "4179               PA        14"
            ]
          },
          "metadata": {
            "tags": []
          },
          "execution_count": 7
        }
      ]
    },
    {
      "cell_type": "markdown",
      "metadata": {
        "id": "7jiQsQdbyM0q"
      },
      "source": [
        "EIS OS DADOS.\n",
        "\n",
        "Bom, qualquer dúvida, bug ou sugestão, meu nick no discord é `rogeriomoreirajr`, mas sou oldschool e uso e-mail, então pode falar comigo pelo `rogeriomoreirajr at gmail.com`. E, não, não tenho redes sociais. Assisti _The Social Dilemma_."
      ]
    }
  ]
}